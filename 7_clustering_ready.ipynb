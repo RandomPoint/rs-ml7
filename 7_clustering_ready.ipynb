{
  "nbformat": 4,
  "nbformat_minor": 0,
  "metadata": {
    "kernelspec": {
      "display_name": "Python 3",
      "language": "python",
      "name": "python3"
    },
    "language_info": {
      "codemirror_mode": {
        "name": "ipython",
        "version": 3
      },
      "file_extension": ".py",
      "mimetype": "text/x-python",
      "name": "python",
      "nbconvert_exporter": "python",
      "pygments_lexer": "ipython3",
      "version": "3.8.5"
    },
    "colab": {
      "name": "7.clustering.ipynb",
      "provenance": []
    }
  },
  "cells": [
    {
      "cell_type": "markdown",
      "metadata": {
        "id": "EQJclrZZjAtp"
      },
      "source": [
        "Каждый пункт, который предлагается выполнить в рамках домашнего задания, имеет объявленную \"цену\" в баллах. Максимально возможная сумма – 10 баллов, а с учётом бонусных пунктов – 12 баллов. Выполнять все пункты не обязательно, можно сделать только часть. В большинстве пунктов ожидается, что вы напишете работающий код на Python; иногда надо будет писать комментарии в свободной форме – например, сравнивать несколько подходов к решению одной задачи. Там, где оставлены пустые клетки под ваши ответы, вы можете по своему усмотрению добавлять ещё клетки.\n",
        "\n",
        "* * *\n",
        "\n",
        "Эта лабораторная работа посвящена кластеризации. Мы будем работать с рукописными изображениями цифр, научимся их кластеризовать двумя разными методами (иерархическая кластеризация и алгоритм $K$-means), оценивать качество разбиения и выбирать оптимальное число кластеров, а также визуализировать промежуточные результаты.\n",
        "\n",
        "# 1. Получение данных\n",
        "\n",
        "Данные, с которыми мы будем работать, доступны в библиотеке scikit-learn (модуль называется `sklearn`) в подмодуле `datasets` через функцию, которая называется `load_digits`. Всего имеется 1797 наблюдений, каждое из них представляет чёрно-белую картинку 8 $\\times$ 8 пикселей. Эти картинки – распознанные рукописные цифры от 0 до 9. Образцов написания каждой цифры дано приблизительно поровну, около 180.\n",
        "\n",
        "Для удобства использования данных каждая картинка \"развёрнута\" в строку, так что NumPy-массив, в котором хранятся данные, имеет размерность 2 и величину 1797 $\\times$ 64 (а не, например, размерность 3 и величину 1797 $\\times$ 8 $\\times$ 8). Интенсивность цвета в каждом пикселе кодируется целым числом от 0 до 16.\n",
        "\n",
        "Кроме наблюдений (картинок), известны соответствующие им значения целевой переменной: какую цифру на самом деле изображает каждая картинка. Мы могли бы сразу сформулировать задачу обучения с учителем и предсказывать цифры по картинкам, но для целей этой лабораторной работы мы будем действовать по-другому: сделаем вид, что нам не известны истинные метки классов (т. е. цифры) и даже количество классов, и попробуем сгруппировать данные таким образом, чтобы качество кластеризации оказалось наилучшим, а затем посмотрим, насколько точно полученные кластеры совпадают с группами изображений одинаковых цифр.\n",
        "\n",
        "**(0.5 балла)** Загрузите данные. Добейтесь, чтобы в переменной `X` оказался массив наблюдений, содержащий 1797 $\\times$ 64 числа, а в переменной `y` – массив истинных меток классов, содержащий 1797 чисел.\n",
        "\n",
        "*Указания:*\n",
        "- Как загрузить данные, объяснено в справке к функции `load_digits`.\n",
        "- Размер массива хранится в атрибуте `shape`."
      ]
    },
    {
      "cell_type": "code",
      "metadata": {
        "id": "WbHOKIxmjAts"
      },
      "source": [
        "from sklearn.datasets import load_digits"
      ],
      "execution_count": 1,
      "outputs": []
    },
    {
      "cell_type": "code",
      "metadata": {
        "colab": {
          "base_uri": "https://localhost:8080/"
        },
        "id": "DXAxollHjAts",
        "outputId": "d5dc8857-c670-44f5-ab4e-a27a660284b5"
      },
      "source": [
        "data = load_digits()\n",
        "X = data.data\n",
        "y = data.target\n",
        "print(X.shape)"
      ],
      "execution_count": 2,
      "outputs": [
        {
          "output_type": "stream",
          "text": [
            "(1797, 64)\n"
          ],
          "name": "stdout"
        }
      ]
    },
    {
      "cell_type": "markdown",
      "metadata": {
        "id": "4c5be-xFjAtt"
      },
      "source": [
        "**(1 балл)** Визуализируйте первые десять картинок, расположив их на сетке 3 $\\times$ 4 (в последнем ряду останутся пустые места). Добейтесь, чтобы фон картинок был белым, а изображения цифр – тёмными.\n",
        "\n",
        "*Указания:*\n",
        "- Не забудьте импортировать NumPy и Matplotlib.\n",
        "- Картинки 8 $\\times$ 8 можно либо достать готовыми из объекта, загруженного функцией `load_digits`, либо сделать самостоятельно из строк массива `X`. Во втором случае пользуйтесь методом `reshape`.\n",
        "- Чтобы изображение не было цветным, можно вызвать функцию `plt.gray`, прежде чем начать рисовать.\n",
        "- Располагать картинки на сетке умеет функция `plt.subplot`. Ознакомьтесь со справкой к ней.\n",
        "- По умолчанию число 0 кодирует чёрный цвет, а число 16 – белый цвет. Подумайте, как обратить цвета одной операцией над NumPy-массивом.\n",
        "- Выводить картинку на экран умеет функция `plt.imshow`. Ознакомьтесь со справкой к ней.\n",
        "- Если считаете нужным, можете отключить сглаживание – параметр `interpolation` у функции `plt.imshow`.\n",
        "- Если считаете нужным, можете отключить деления на координатных осях. За это отвечают функции `plt.xticks` и `plt.yticks`."
      ]
    },
    {
      "cell_type": "code",
      "metadata": {
        "id": "jPJ7h-pcjAtt"
      },
      "source": [
        "import pandas as pd\n",
        "import numpy as np\n",
        "import matplotlib.pyplot as plt"
      ],
      "execution_count": 3,
      "outputs": []
    },
    {
      "cell_type": "code",
      "metadata": {
        "id": "VnKCGVsDjAtu"
      },
      "source": [
        "PLT_COLS = 4\n",
        "PLT_ROWS = 3\n",
        "N_DIGITS = 10"
      ],
      "execution_count": 4,
      "outputs": []
    },
    {
      "cell_type": "code",
      "metadata": {
        "id": "DPdEgElCjAtu",
        "colab": {
          "base_uri": "https://localhost:8080/"
        },
        "outputId": "d5cc0eb6-5c97-4bb3-cf90-2e00d784ba19"
      },
      "source": [
        "images_topN = data.images[0:N_DIGITS, :, :]\r\n",
        "print(images_topN)"
      ],
      "execution_count": 5,
      "outputs": [
        {
          "output_type": "stream",
          "text": [
            "[[[ 0.  0.  5. 13.  9.  1.  0.  0.]\n",
            "  [ 0.  0. 13. 15. 10. 15.  5.  0.]\n",
            "  [ 0.  3. 15.  2.  0. 11.  8.  0.]\n",
            "  [ 0.  4. 12.  0.  0.  8.  8.  0.]\n",
            "  [ 0.  5.  8.  0.  0.  9.  8.  0.]\n",
            "  [ 0.  4. 11.  0.  1. 12.  7.  0.]\n",
            "  [ 0.  2. 14.  5. 10. 12.  0.  0.]\n",
            "  [ 0.  0.  6. 13. 10.  0.  0.  0.]]\n",
            "\n",
            " [[ 0.  0.  0. 12. 13.  5.  0.  0.]\n",
            "  [ 0.  0.  0. 11. 16.  9.  0.  0.]\n",
            "  [ 0.  0.  3. 15. 16.  6.  0.  0.]\n",
            "  [ 0.  7. 15. 16. 16.  2.  0.  0.]\n",
            "  [ 0.  0.  1. 16. 16.  3.  0.  0.]\n",
            "  [ 0.  0.  1. 16. 16.  6.  0.  0.]\n",
            "  [ 0.  0.  1. 16. 16.  6.  0.  0.]\n",
            "  [ 0.  0.  0. 11. 16. 10.  0.  0.]]\n",
            "\n",
            " [[ 0.  0.  0.  4. 15. 12.  0.  0.]\n",
            "  [ 0.  0.  3. 16. 15. 14.  0.  0.]\n",
            "  [ 0.  0.  8. 13.  8. 16.  0.  0.]\n",
            "  [ 0.  0.  1.  6. 15. 11.  0.  0.]\n",
            "  [ 0.  1.  8. 13. 15.  1.  0.  0.]\n",
            "  [ 0.  9. 16. 16.  5.  0.  0.  0.]\n",
            "  [ 0.  3. 13. 16. 16. 11.  5.  0.]\n",
            "  [ 0.  0.  0.  3. 11. 16.  9.  0.]]\n",
            "\n",
            " [[ 0.  0.  7. 15. 13.  1.  0.  0.]\n",
            "  [ 0.  8. 13.  6. 15.  4.  0.  0.]\n",
            "  [ 0.  2.  1. 13. 13.  0.  0.  0.]\n",
            "  [ 0.  0.  2. 15. 11.  1.  0.  0.]\n",
            "  [ 0.  0.  0.  1. 12. 12.  1.  0.]\n",
            "  [ 0.  0.  0.  0.  1. 10.  8.  0.]\n",
            "  [ 0.  0.  8.  4.  5. 14.  9.  0.]\n",
            "  [ 0.  0.  7. 13. 13.  9.  0.  0.]]\n",
            "\n",
            " [[ 0.  0.  0.  1. 11.  0.  0.  0.]\n",
            "  [ 0.  0.  0.  7.  8.  0.  0.  0.]\n",
            "  [ 0.  0.  1. 13.  6.  2.  2.  0.]\n",
            "  [ 0.  0.  7. 15.  0.  9.  8.  0.]\n",
            "  [ 0.  5. 16. 10.  0. 16.  6.  0.]\n",
            "  [ 0.  4. 15. 16. 13. 16.  1.  0.]\n",
            "  [ 0.  0.  0.  3. 15. 10.  0.  0.]\n",
            "  [ 0.  0.  0.  2. 16.  4.  0.  0.]]\n",
            "\n",
            " [[ 0.  0. 12. 10.  0.  0.  0.  0.]\n",
            "  [ 0.  0. 14. 16. 16. 14.  0.  0.]\n",
            "  [ 0.  0. 13. 16. 15. 10.  1.  0.]\n",
            "  [ 0.  0. 11. 16. 16.  7.  0.  0.]\n",
            "  [ 0.  0.  0.  4.  7. 16.  7.  0.]\n",
            "  [ 0.  0.  0.  0.  4. 16.  9.  0.]\n",
            "  [ 0.  0.  5.  4. 12. 16.  4.  0.]\n",
            "  [ 0.  0.  9. 16. 16. 10.  0.  0.]]\n",
            "\n",
            " [[ 0.  0.  0. 12. 13.  0.  0.  0.]\n",
            "  [ 0.  0.  5. 16.  8.  0.  0.  0.]\n",
            "  [ 0.  0. 13. 16.  3.  0.  0.  0.]\n",
            "  [ 0.  0. 14. 13.  0.  0.  0.  0.]\n",
            "  [ 0.  0. 15. 12.  7.  2.  0.  0.]\n",
            "  [ 0.  0. 13. 16. 13. 16.  3.  0.]\n",
            "  [ 0.  0.  7. 16. 11. 15.  8.  0.]\n",
            "  [ 0.  0.  1.  9. 15. 11.  3.  0.]]\n",
            "\n",
            " [[ 0.  0.  7.  8. 13. 16. 15.  1.]\n",
            "  [ 0.  0.  7.  7.  4. 11. 12.  0.]\n",
            "  [ 0.  0.  0.  0.  8. 13.  1.  0.]\n",
            "  [ 0.  4.  8.  8. 15. 15.  6.  0.]\n",
            "  [ 0.  2. 11. 15. 15.  4.  0.  0.]\n",
            "  [ 0.  0.  0. 16.  5.  0.  0.  0.]\n",
            "  [ 0.  0.  9. 15.  1.  0.  0.  0.]\n",
            "  [ 0.  0. 13.  5.  0.  0.  0.  0.]]\n",
            "\n",
            " [[ 0.  0.  9. 14.  8.  1.  0.  0.]\n",
            "  [ 0.  0. 12. 14. 14. 12.  0.  0.]\n",
            "  [ 0.  0.  9. 10.  0. 15.  4.  0.]\n",
            "  [ 0.  0.  3. 16. 12. 14.  2.  0.]\n",
            "  [ 0.  0.  4. 16. 16.  2.  0.  0.]\n",
            "  [ 0.  3. 16.  8. 10. 13.  2.  0.]\n",
            "  [ 0.  1. 15.  1.  3. 16.  8.  0.]\n",
            "  [ 0.  0. 11. 16. 15. 11.  1.  0.]]\n",
            "\n",
            " [[ 0.  0. 11. 12.  0.  0.  0.  0.]\n",
            "  [ 0.  2. 16. 16. 16. 13.  0.  0.]\n",
            "  [ 0.  3. 16. 12. 10. 14.  0.  0.]\n",
            "  [ 0.  1. 16.  1. 12. 15.  0.  0.]\n",
            "  [ 0.  0. 13. 16.  9. 15.  2.  0.]\n",
            "  [ 0.  0.  0.  3.  0.  9. 11.  0.]\n",
            "  [ 0.  0.  0.  0.  9. 15.  4.  0.]\n",
            "  [ 0.  0.  9. 12. 13.  3.  0.  0.]]]\n"
          ],
          "name": "stdout"
        }
      ]
    },
    {
      "cell_type": "code",
      "metadata": {
        "id": "J0QB-n1VjAtu"
      },
      "source": [
        "def plt_gray_invert_on_grid(image_data, ind, grid_rows=PLT_ROWS, grid_cols=PLT_COLS):\n",
        "    plt.gray()    \n",
        "    plt.subplot(grid_rows, grid_cols, ind + 1)\n",
        "    plt.xticks([])\n",
        "    plt.yticks([])\n",
        "    plt.imshow(16 - image_data, interpolation=None)    \n",
        "    "
      ],
      "execution_count": 6,
      "outputs": []
    },
    {
      "cell_type": "code",
      "metadata": {
        "colab": {
          "base_uri": "https://localhost:8080/",
          "height": 252
        },
        "id": "HOCzbDxyjAtu",
        "outputId": "37c0f60b-e9ba-40b2-bc47-8fdef9d6f540"
      },
      "source": [
        "for i in range(N_DIGITS):\n",
        "    plt_gray_invert_on_grid(images_topN[i, :, :], i)"
      ],
      "execution_count": 7,
      "outputs": [
        {
          "output_type": "display_data",
          "data": {
            "image/png": "[encoded data removed]",
            "text/plain": [
              "<Figure size 432x288 with 10 Axes>"
            ]
          },
          "metadata": {
            "tags": []
          }
        }
      ]
    },
    {
      "cell_type": "markdown",
      "metadata": {
        "id": "t7hQqz1OjAtv"
      },
      "source": [
        "# 2. Кластеризация и оценка качества\n",
        "\n",
        "Мы будем использовать два популярных алгоритма: иерархическую кластеризацию и метод $K$ средних ($K$-means clustering). Эти и другие алгоритмы кластеризации доступны в библиотеке scikit-learn в подмодуле `cluster`. Иерархическая кластеризация называется `AgglomerativeClustering`, а метод $K$ средних – `KMeans`.\n",
        "\n",
        "Интерфейс у большинства алгоритмов в scikit-learn простой и единообразный:\n",
        "- Чтобы инициализировать модель, нужно создать экземпляр соответствующего класса со всеми необходимыми параметрами. Например, у кластеризаций единственный обязательный параметр называется `n_clusters`, это количество кластеров, которое мы хотим получить на выходе.\n",
        "- Инициализированную модель можно обучить, вызвав метод `fit`.\n",
        "- С помощью обученной модели можно предсказывать, вызывая метод `predict`.\n",
        "\n",
        "Как видно, этот интерфейс хорош только для задач обучения с учителем, в которых чётко разделены фазы обучения модели и предсказания с её помощью. У кластеризаций зато есть метод `fit_predict`, который разбивает входную выборку на кластеры и сразу же возвращает результаты разбиения.\n",
        "\n",
        "**(0.5 балла)** Используя каждый из двух методов, иерархическую кластеризацию и $K$ средних, получите разбиение массива `X` на 10 кластеров.\n",
        "\n",
        "*Указания:*\n",
        "- Оба раза должен получиться массив из 1797 чисел – номеров кластеров.\n",
        "- `KMeans` делает несколько (по умолчанию 10) запусков со случайными центрами и из полученных разбиений выводит лучшее в терминах среднего внутрикластерного расстояния. Чтобы улучшить качество предсказаний, можно увеличить число запусков, например, до 100. Это параметр `n_init` в конструкторе."
      ]
    },
    {
      "cell_type": "code",
      "metadata": {
        "id": "zXT61_1OjAtv"
      },
      "source": [
        "from sklearn.cluster import AgglomerativeClustering, KMeans"
      ],
      "execution_count": 8,
      "outputs": []
    },
    {
      "cell_type": "code",
      "metadata": {
        "id": "ZtaYsUkjjAtw"
      },
      "source": [
        "N_CLUSTERS = 10"
      ],
      "execution_count": 9,
      "outputs": []
    },
    {
      "cell_type": "code",
      "metadata": {
        "colab": {
          "base_uri": "https://localhost:8080/"
        },
        "id": "dgOxeP5AjAtw",
        "outputId": "e69ba62f-775c-487d-ffe4-22803733d19c"
      },
      "source": [
        "clust_ac_model = AgglomerativeClustering(n_clusters=N_CLUSTERS)\n",
        "clusters_ac = clust_ac_model.fit_predict(X)\n",
        "print(clusters_ac.shape)"
      ],
      "execution_count": 10,
      "outputs": [
        {
          "output_type": "stream",
          "text": [
            "(1797,)\n"
          ],
          "name": "stdout"
        }
      ]
    },
    {
      "cell_type": "code",
      "metadata": {
        "colab": {
          "base_uri": "https://localhost:8080/"
        },
        "id": "AAEkve3FjAtw",
        "outputId": "c55cc618-3c39-4969-d422-0206e500aa94"
      },
      "source": [
        "clust_kmeans_model = KMeans(n_clusters=N_CLUSTERS)\n",
        "clusters_kmeans = clust_kmeans_model.fit_predict(X)\n",
        "print(clusters_kmeans.shape)\n",
        "print(clusters_kmeans[:10])"
      ],
      "execution_count": 11,
      "outputs": [
        {
          "output_type": "stream",
          "text": [
            "(1797,)\n",
            "[3 9 7 6 5 6 2 4 7 6]\n"
          ],
          "name": "stdout"
        }
      ]
    },
    {
      "cell_type": "code",
      "metadata": {
        "colab": {
          "base_uri": "https://localhost:8080/"
        },
        "id": "9EsOPXx9jAtw",
        "outputId": "794a8e39-2142-4fa3-e9e5-e29cb88f87cc"
      },
      "source": [
        "clust_kmeans_model100 = KMeans(n_clusters=N_CLUSTERS, n_init=100)\n",
        "clusters_kmeans100 = clust_kmeans_model100.fit_predict(X)\n",
        "print(clusters_kmeans100[:10])"
      ],
      "execution_count": 12,
      "outputs": [
        {
          "output_type": "stream",
          "text": [
            "[1 6 6 2 4 7 8 5 7 7]\n"
          ],
          "name": "stdout"
        }
      ]
    },
    {
      "cell_type": "markdown",
      "metadata": {
        "id": "TMiy74uFjAtx"
      },
      "source": [
        "**(1 балл)** Визуализируйте центры кластеров, полученных каждым из двух способов. Это опять должны быть картинки на сетке 3 $\\times$ 4 с белым фоном и тёмными контурами. Прокомментируйте: какой из двух алгоритмов даёт центры кластеров, больше похожие на типичные начертания цифр?\n",
        "\n",
        "*Указания:*\n",
        "- Центр кластера – это среднее по всем наблюдениям, входящим в кластер, т. е. по какому-то набору строк из `X`.\n",
        "- Чтобы выбрать наблюдения, входящие в кластер номер `i`, используйте индексацию по булевозначной маске. Саму маску можно получить из массива предсказанных номеров кластеров и числа `i` оператором `==`.\n",
        "- Усреднять NumPy-массив вдоль какой-нибудь из осей умеет функция `np.mean`. Ознакомьтесь со справкой к ней. Нам нужно усреднение по строкам."
      ]
    },
    {
      "cell_type": "code",
      "metadata": {
        "id": "7ErEfqlAjAtx"
      },
      "source": [
        "def visualise_centroids(data, clusters, n):\n",
        "    for i in range(n):\n",
        "        centroid = np.mean(data[clusters == i, :, :], axis=0)\n",
        "        plt_gray_invert_on_grid(centroid, i)"
      ],
      "execution_count": 13,
      "outputs": []
    },
    {
      "cell_type": "code",
      "metadata": {
        "colab": {
          "base_uri": "https://localhost:8080/",
          "height": 252
        },
        "id": "ly2T_FwVjAtx",
        "outputId": "d6fdc43e-220a-4793-bfd3-852d05ad6259"
      },
      "source": [
        "#визуализируем иерархическую кластеризацию\n",
        "visualise_centroids(data.images, clusters_ac, N_DIGITS)"
      ],
      "execution_count": 14,
      "outputs": [
        {
          "output_type": "display_data",
          "data": {
            "image/png": "[encoded data removed]",
            "text/plain": [
              "<Figure size 432x288 with 10 Axes>"
            ]
          },
          "metadata": {
            "tags": []
          }
        }
      ]
    },
    {
      "cell_type": "code",
      "metadata": {
        "colab": {
          "base_uri": "https://localhost:8080/",
          "height": 252
        },
        "id": "h9gHojcojAtx",
        "outputId": "aaf6fdd9-7d5f-40ee-82f3-30ff68800549"
      },
      "source": [
        "#визуализируем К-средних\n",
        "visualise_centroids(data.images, clusters_kmeans100, N_DIGITS)"
      ],
      "execution_count": 15,
      "outputs": [
        {
          "output_type": "display_data",
          "data": {
            "image/png": "[encoded data removed]",
            "text/plain": [
              "<Figure size 432x288 with 10 Axes>"
            ]
          },
          "metadata": {
            "tags": []
          }
        }
      ]
    },
    {
      "cell_type": "markdown",
      "metadata": {
        "id": "CFs6ktsejAty"
      },
      "source": [
        "Для иерархической кластеризации отчётливо видны 6 цифр: 5, 9, 2, 7, 4, 6, 0\n",
        "Для К-средних отчётливо видны 8 цифр: 6, 5, 4, 0, 7, 3, 9, 2"
      ]
    },
    {
      "cell_type": "markdown",
      "metadata": {
        "id": "2jsoGp48jAty"
      },
      "source": [
        "В ситуации, когда истинное число кластеров неизвестно, подбирают оптимальное число кластеров. При этом учитывают две величины: внутрикластерное расстояние (чем меньше, тем лучше) и межкластерное расстояние (чем больше, тем лучше). Так как две эти величины не достигают оптимума одновременно, обычно оптимизируют какой-нибудь функционал от них. Один популярный функционал называется \"силуэт\" (silhouette). Вот как он вычисляется.\n",
        "\n",
        "Пусть $X$ – множество наблюдений, $M \\subset X$ – один из кластеров, на которые оно разбито в результате кластеризации, $\\rho$ – метрика на $X$. Выберем какое-нибудь одно наблюдение $x \\in M$. Обозначим $a(x)$ среднее расстояние от $x$ до точек $x'$ из того же кластера:\n",
        "$$\n",
        "a(x) = \\frac{1}{|M| - 1} \\sum_{x' \\in M,\\, x' \\ne x} \\rho(x,\\, x')\n",
        "$$\n",
        "\n",
        "Обозначим $b(x)$ минимум средних расстояний от $x$ до точек $x''$ из какого-нибудь другого кластера $N$:\n",
        "$$\n",
        "b(x) = \\min_{N \\ne M} \\frac{1}{|N|} \\sum_{x'' \\in N} \\rho(x,\\, x'')\n",
        "$$\n",
        "\n",
        "Силуэт – это разность межкластерного и внутрикластерного расстояний, нормированная до отрезка $[-1,\\, 1]$ и усреднённая по всем наблюдениям:\n",
        "$$\n",
        "\\frac{1}{|X|} \\sum_{x \\in X} \\frac{b(x) - a(x)}{\\max(a(x),\\, b(x))}\n",
        "$$\n",
        "\n",
        "В scikit-learn силуэт считается функцией `silhouette_score` из подмодуля `metrics`. На вход нужно передать массив наблюдений и результат кластеризации.\n",
        "\n",
        "**(1.5 балла)** Для числа $K$ от 2 до 20 включительно получите разбиение массива `X` на $K$ кластеров каждым из двух методов. Посчитайте силуэт. Посчитанные значения силуэта сохраните в переменную и визуализируйте в виде графика в координатах: число $K$ – значение силуэта. При каком числе кластеров достигается максимум силуэта?\n",
        "\n",
        "*Указания:*\n",
        "- Не забудьте, что функция `range` не захватывает правый конец диапазона.\n",
        "- Под значения силуэта можно завести два списка: один для иерархической кластеризации, другой для $K$ средних.\n",
        "- Рисовать графики умеет функция `plt.plot`. Ознакомьтесь со справкой к ней.\n",
        "- На одной картинке можно разместить несколько графиков, это просто несколько последовательных вызовов `plt.plot`.\n",
        "- Чтобы добавить легенду (подписи к графикам), можно воспользоваться функцией `plt.legend`. Местоположение легенды контролируется параметром `loc`.\n",
        "- Чтобы подписать координатные оси, можно воспользоваться функциями `plt.xlabel` и `plt.ylabel`."
      ]
    },
    {
      "cell_type": "code",
      "metadata": {
        "id": "qzb6-LxXjAty"
      },
      "source": [
        "from sklearn.metrics import silhouette_score"
      ],
      "execution_count": 16,
      "outputs": []
    },
    {
      "cell_type": "code",
      "metadata": {
        "id": "cp0OQDJIjAtz"
      },
      "source": [
        "CLUSTERS_RANGE = (2, 20)\n",
        "def get_clusters(data, n_clust, method):\n",
        "    if method == 'ac': #AgglomerativeClustering\n",
        "        model = AgglomerativeClustering(n_clusters=n_clust)\n",
        "    elif method == 'kmeans':\n",
        "        model = KMeans(n_clusters=n_clust, n_init=100)\n",
        "    return model.fit_predict(data)"
      ],
      "execution_count": 17,
      "outputs": []
    },
    {
      "cell_type": "code",
      "metadata": {
        "id": "QDXsgsvljAtz"
      },
      "source": [
        "ac_labels = []\n",
        "kmeans_labels = []\n",
        "for K in range(CLUSTERS_RANGE[0], CLUSTERS_RANGE[1] + 1): \n",
        "    ac_labels.append(get_clusters(X, K, 'ac'))\n",
        "    kmeans_labels.append(get_clusters(X, K, 'kmeans'))"
      ],
      "execution_count": 18,
      "outputs": []
    },
    {
      "cell_type": "code",
      "metadata": {
        "id": "NX_fFLH2jAtz"
      },
      "source": [
        "silhouette_ac = []\n",
        "silhouette_kmeans = []    \n",
        "for K in range(CLUSTERS_RANGE[1] - CLUSTERS_RANGE[0] + 1):     \n",
        "    silhouette_ac.append(silhouette_score(X, ac_labels[K][:]))\n",
        "    silhouette_kmeans.append(silhouette_score(X, kmeans_labels[K][:]))"
      ],
      "execution_count": 19,
      "outputs": []
    },
    {
      "cell_type": "code",
      "metadata": {
        "id": "TEF02kxpjAt0"
      },
      "source": [
        "x_range = np.linspace(CLUSTERS_RANGE[0], CLUSTERS_RANGE[1], CLUSTERS_RANGE[1] - CLUSTERS_RANGE[0] + 1, dtype=int)"
      ],
      "execution_count": 20,
      "outputs": []
    },
    {
      "cell_type": "code",
      "metadata": {
        "id": "LwThzo8ajAt0"
      },
      "source": [
        "def plot_clustering_metrics(x=None, y1=None, y2=None, xlabel=None, ylabel=None, y1_label=None, y2_label=None, title=None):\n",
        "    if y1 != None or y2 != None:\n",
        "      plt.figure(figsize=(10,6))\n",
        "    if y1 != None:\n",
        "      plt.plot(x, y1, label=y1_label, color='red')\n",
        "      x_vline1 = x[np.argmax(y1)]\n",
        "      plt.axvline(x_vline1, color='red', lw=1.3, ls='--')\n",
        "      plt.text(x_vline1 + 0.5, max(y1), xlabel + ' = ' + str(x_vline1))\n",
        "    if y2 != None:      \n",
        "      plt.plot(x, y2, label=y2_label, color='blue')\n",
        "      x_vline2 = x[np.argmax(y2)]\n",
        "      plt.axvline(x_vline2, color='blue', lw=1.3, ls='--')\n",
        "      plt.text(x_vline2 + 0.5, max(y2), xlabel + ' = ' + str(x_vline2))\n",
        "    if y1 != None or y2 != None:\n",
        "      plt.xlabel(xlabel)\n",
        "      plt.ylabel(ylabel)\n",
        "      if y1_label != None or y2_label != None:\n",
        "        plt.legend()\n",
        "    if title != None:\n",
        "      plt.title(title)"
      ],
      "execution_count": 21,
      "outputs": []
    },
    {
      "cell_type": "code",
      "metadata": {
        "colab": {
          "base_uri": "https://localhost:8080/",
          "height": 389
        },
        "id": "Fh7UyE5pjAt0",
        "outputId": "0ab8b839-d8f0-4a6e-f708-cac5bcac426d"
      },
      "source": [
        "plot_clustering_metrics(x_range, silhouette_ac, silhouette_kmeans, xlabel='n_clusters',\\\n",
        "                        y1_label='Agglomerative Clustering', y2_label='K-means Clustering', ylabel='silhouette')"
      ],
      "execution_count": 22,
      "outputs": [
        {
          "output_type": "display_data",
          "data": {
            "image/png": "[encoded data removed]",
            "text/plain": [
              "<Figure size 720x432 with 1 Axes>"
            ]
          },
          "metadata": {
            "tags": [],
            "needs_background": "light"
          }
        }
      ]
    },
    {
      "cell_type": "markdown",
      "metadata": {
        "id": "LVpuvPOLjAt0"
      },
      "source": [
        "Когда известно \"правильное\" (в каком-нибудь смысле) разбиение на кластеры, результат кластеризации можно сравнить с ним, используя такие меры, как однородность (homogeneity), полнота (completeness) и их среднее гармоническое – $V$-мера. Определения этих величин довольно громоздкие и основаны на понятии [энтропии распределения вероятностей](https://ru.wikipedia.org/wiki/Информационная_энтропия); подробности излагаются в [этой статье](http://aclweb.org/anthology/D/D07/D07-1043.pdf). На практике достаточно знать, что однородность, полнота и $V$-мера заключены между нулём и единицей – чем больше, тем лучше.\n",
        "\n",
        "Так как мы знаем, какую цифру на самом деле изображает каждая картинка (это массив `y`), мы можем использовать однородность, полноту и $V$-меру для оценки качества кластеризации. Функции для вычисления этих величин доступны в scikit-learn, в подмодуле `metrics`, под названиями `homogeneity_score`, `completeness_score`, `v_measure_score`. Как вариант, можно использовать функцию `homogeneity_completeness_v_measure`, которая возвращает сразу тройку чисел.\n",
        "\n",
        "**(1 балл)** Повторите предыдущее задание, используя $V$-меру вместо силуэта. При каком числе кластеров достигается максимум $V$-меры?"
      ]
    },
    {
      "cell_type": "code",
      "metadata": {
        "id": "oyA-uHe7jAt1"
      },
      "source": [
        "from sklearn.metrics import homogeneity_score, completeness_score, v_measure_score"
      ],
      "execution_count": 23,
      "outputs": []
    },
    {
      "cell_type": "code",
      "metadata": {
        "id": "2BSf4PbnjAt1"
      },
      "source": [
        "v_measure_ac = []\n",
        "v_measure_kmeans = []\n",
        "for K in range(CLUSTERS_RANGE[1] - CLUSTERS_RANGE[0] + 1):    \n",
        "    v_measure_ac.append(v_measure_score(y, ac_labels[K][:]))\n",
        "    v_measure_kmeans.append(v_measure_score(y, kmeans_labels[K][:]))"
      ],
      "execution_count": 24,
      "outputs": []
    },
    {
      "cell_type": "code",
      "metadata": {
        "colab": {
          "base_uri": "https://localhost:8080/",
          "height": 389
        },
        "id": "Hli38GFHjAt1",
        "outputId": "979140bc-953a-4edf-d44b-687b44eb5299"
      },
      "source": [
        "plot_clustering_metrics(x_range, v_measure_ac, v_measure_kmeans, xlabel='n_clusters',\\\n",
        "                        y1_label='Agglomerative Clustering', y2_label='K-means Clustering', ylabel='V-measure')"
      ],
      "execution_count": 25,
      "outputs": [
        {
          "output_type": "display_data",
          "data": {
            "image/png": "[encoded data removed]",
            "text/plain": [
              "<Figure size 720x432 with 1 Axes>"
            ]
          },
          "metadata": {
            "tags": [],
            "needs_background": "light"
          }
        }
      ]
    },
    {
      "cell_type": "markdown",
      "metadata": {
        "id": "caAch8BgjAt1"
      },
      "source": [
        "# 3. Снижение размерности признакового пространства\n",
        "\n",
        "Иногда, особенно когда признаков много и не все они одинаково информативные, бывает полезно снизить размерность признакового пространства, то есть вместо $d$ исходных признаков перейти к рассмотрению $d' \\ll d$ новых признаков. Данные были представлены матрицей $n$ наблюдений $\\times$ $d$ исходных признаков, а теперь будут представлены матрицей $n$ наблюдений $\\times$ $d'$ новых признаков.\n",
        "\n",
        "Есть два популярных подхода к снижению размерности:\n",
        "- отобрать (select) новые признаки из числа имеющихся;\n",
        "- извлечь (extract) новые признаки, преобразуя старые, например, сделать $d'$ различных линейных комбинаций столбцов исходной матрицы $n \\times d$.\n",
        "\n",
        "Одним из широко используемых методов извлечения признаков является сингулярное разложение матрицы (singular value decomposition, SVD). Этот метод позволяет сконструировать любое число $d' \\le d$ новых признаков таким образом, что они будут, в определённом смысле, максимально информативными. Математические детали сейчас не важны; познакомиться с ними можно, например, [здесь](https://www.coursera.org/learn/mathematics-and-python/lecture/L9bCV/razlozhieniia-matrits-v-proizviedieniie-singhuliarnoie-razlozhieniie)\n",
        "(по-русски) или [здесь](https://www.youtube.com/watch?v=P5mlg91as1c) (по-английски).\n",
        "\n",
        "В scikit-learn есть несколько реализаций сингулярного разложения. Мы будем использовать класс `TruncatedSVD` из подмодуля `decomposition`. В конструктор этого класса достаточно передать один параметр `n_components` – желаемое число новых признаков. Метод `fit_transform` принимает матрицу и возвращает новую матрицу с таким же количеством строк, как прежде, и количеством столбцов, равным числу новых признаков.\n",
        "\n",
        "<u>Замечание:</u> Сингулярное разложение матрицы $M$ обычно пишут в виде $M = U \\Sigma V^{*}$, где $U$, $\\Sigma$ и $V$ – некие матрицы с хорошими свойствами. То, что возвращает алгоритм `TruncatedSVD`, – это сколько-то (сколько мы хотим получить) первых столбцов матрицы $U$.\n",
        "\n",
        "**(1.5 балла)** Выполните сингулярное разложение матрицы `X`, оставляя 2, 5, 10, 20 признаков. В каждом случае выполните иерархическую и $K$-means кластеризацию преобразованных данных (число кластеров примите равным 10). Посчитайте значения силуэта и $V$-меры. Удалось ли при каком-нибудь $d'$ получить силуэт и / или $V$-меру лучше, чем на исходных данных?"
      ]
    },
    {
      "cell_type": "code",
      "metadata": {
        "id": "Ez3iLVvxjAt2"
      },
      "source": [
        "from sklearn.decomposition import TruncatedSVD"
      ],
      "execution_count": 26,
      "outputs": []
    },
    {
      "cell_type": "code",
      "metadata": {
        "id": "XmzsVPwijAt2"
      },
      "source": [
        "N_FEATURES = [2, 5, 10, 20]"
      ],
      "execution_count": 27,
      "outputs": []
    },
    {
      "cell_type": "code",
      "metadata": {
        "id": "13gwEClvjAt2"
      },
      "source": [
        "ac_labels_reduced = []\n",
        "kmeans_labels_reduced = []\n",
        "silhouette_ac_reduced = []\n",
        "silhouette_kmeans_reduced = []\n",
        "v_measure_ac_reduced = []\n",
        "v_measure_kmeans_reduced = []\n",
        "for n in N_FEATURES:\n",
        "    reducer = TruncatedSVD(n_components=n, random_state=42)\n",
        "    X_reduced = reducer.fit_transform(X)    \n",
        "    ac_labels_reduced = get_clusters(X_reduced, 10, 'ac')\n",
        "    kmeans_labels_reduced = get_clusters(X_reduced, 10, 'kmeans')\n",
        "    silhouette_ac_reduced.append(silhouette_score(X_reduced, ac_labels_reduced))\n",
        "    silhouette_kmeans_reduced.append(silhouette_score(X_reduced, kmeans_labels_reduced))\n",
        "    v_measure_ac_reduced.append(v_measure_score(y, ac_labels_reduced))\n",
        "    v_measure_kmeans_reduced.append(v_measure_score(y, kmeans_labels_reduced))"
      ],
      "execution_count": 28,
      "outputs": []
    },
    {
      "cell_type": "code",
      "metadata": {
        "colab": {
          "base_uri": "https://localhost:8080/",
          "height": 0
        },
        "id": "bohT8e5ujAt2",
        "outputId": "0b33b0cc-1fe0-4b84-ff47-260781fb5ff4"
      },
      "source": [
        "plot_clustering_metrics(N_FEATURES, silhouette_ac_reduced, silhouette_kmeans_reduced, xlabel='n_features',\\\n",
        "                        y1_label='Agglomerative Clustering', y2_label='K-means Clustering', ylabel='silhouette')    "
      ],
      "execution_count": 29,
      "outputs": [
        {
          "output_type": "display_data",
          "data": {
            "image/png": "[encoded data removed]",
            "text/plain": [
              "<Figure size 720x432 with 1 Axes>"
            ]
          },
          "metadata": {
            "tags": [],
            "needs_background": "light"
          }
        }
      ]
    },
    {
      "cell_type": "code",
      "metadata": {
        "colab": {
          "base_uri": "https://localhost:8080/",
          "height": 0
        },
        "id": "tJWtZ8YhjAt2",
        "outputId": "cd3cbd23-b02d-4d6f-c82f-1b9f5b8ce454"
      },
      "source": [
        "plot_clustering_metrics(N_FEATURES, v_measure_ac_reduced, v_measure_kmeans_reduced, xlabel='n_features',\\\n",
        "                        y1_label='Agglomerative Clustering', y2_label='K-means Clustering', ylabel='V-measure')"
      ],
      "execution_count": 30,
      "outputs": [
        {
          "output_type": "display_data",
          "data": {
            "image/png": "[encoded data removed]",
            "text/plain": [
              "<Figure size 720x432 with 1 Axes>"
            ]
          },
          "metadata": {
            "tags": [],
            "needs_background": "light"
          }
        }
      ]
    },
    {
      "cell_type": "code",
      "metadata": {
        "colab": {
          "base_uri": "https://localhost:8080/"
        },
        "id": "gDrLh0GojAt2",
        "outputId": "103f3462-b4a2-421f-f423-c74c1db2d7fc"
      },
      "source": [
        "print(f'Full data silhouette (AgglomerativeClustering, n_clusters = 10) {silhouette_ac[10 - CLUSTERS_RANGE[0]]}')\n",
        "print(f'Full data silhouette (KMeans, n_clusters = 10) {silhouette_kmeans[10 - CLUSTERS_RANGE[0]]}')\n",
        "print(f'Full data V-measure (AgglomerativeClustering, n_clusters = 10) {v_measure_ac[10 - CLUSTERS_RANGE[0]]}')\n",
        "print(f'Full data V-measure (KMeans, n_clusters = 10) {v_measure_kmeans[10 - CLUSTERS_RANGE[0]]}')    \n",
        "print(f'Reduced data silhouette values (AgglomerativeClustering) {silhouette_ac_reduced}')\n",
        "print(f'Reduced data silhouette values (KMeans) {silhouette_kmeans_reduced}')\n",
        "print(f'Reduced data V-measure values (AgglomerativeClustering) {v_measure_ac_reduced}')\n",
        "print(f'Reduced data V-measure values (KMeans) {v_measure_kmeans_reduced}')"
      ],
      "execution_count": 31,
      "outputs": [
        {
          "output_type": "stream",
          "text": [
            "Full data silhouette (AgglomerativeClustering, n_clusters = 10) 0.17849659940596496\n",
            "Full data silhouette (KMeans, n_clusters = 10) 0.1825365733393292\n",
            "Full data V-measure (AgglomerativeClustering, n_clusters = 10) 0.8681701126909083\n",
            "Full data V-measure (KMeans, n_clusters = 10) 0.743749239793608\n",
            "Reduced data silhouette values (AgglomerativeClustering) [0.28081705174878147, 0.2727414056447626, 0.2507088850960124, 0.19713225855053998]\n",
            "Reduced data silhouette values (KMeans) [0.34884627212598557, 0.3121907343006207, 0.2632235648668666, 0.2126762281523765]\n",
            "Reduced data V-measure values (AgglomerativeClustering) [0.3337189903948925, 0.6756036446423491, 0.8259753348813222, 0.8143882689038883]\n",
            "Reduced data V-measure values (KMeans) [0.34869326518541033, 0.6357346028895932, 0.7215689584759067, 0.7418013136834264]\n"
          ],
          "name": "stdout"
        }
      ]
    },
    {
      "cell_type": "markdown",
      "metadata": {
        "id": "5vA1vqqajAt3"
      },
      "source": [
        "Значение силуэта растёт при снижении количества признаков. Вероятная причина - кластеры меньше перекрываются.\n",
        "Значение V-меры не превысило значения на полных данных, но при K-means кластеризации подобралось вплотную на количестве признаков 20."
      ]
    },
    {
      "cell_type": "markdown",
      "metadata": {
        "id": "i8NmwO88jAt3"
      },
      "source": [
        "--------------------------"
      ]
    },
    {
      "cell_type": "markdown",
      "metadata": {
        "id": "o97ECVmVjAt3"
      },
      "source": [
        "Другая популярная техника снижения размерности, которая особенно хорошо подходит для работы с картинками, – это алгоритм t-distributed stochastic neighbor embeddings, сокращённо tSNE. В отличие от сингулярного разложения, это преобразование нелинейное. Его основная идея – отобразить точки из пространства размерности $d$ в пространство размерности 2 или 3 (обычно 2, то есть на плоскость) таким образом, чтобы как можно точнее сохранить расстояния. Математические детали есть, например, [здесь](https://en.wikipedia.org/wiki/T-distributed_stochastic_neighbor_embedding), но они нетривиальны.\n",
        "\n",
        "В библиотеке scikit-learn реализацией tSNE является класс `TSNE` в подмодуле `manifold`. В конструктор можно передать параметр `n_components`, а можно и не передавать: по умолчанию он равен 2. Метод `fit_transform` работает аналогично тому, как и у `TruncatedSVD`.\n",
        "\n",
        "<u>Замечание:</u> В последние годы вместо tSNE на практике часто используется [UMAP](https://github.com/lmcinnes/umap), более быстрый алгоритм с похожими свойствами. В этой лабораторной работе не предлагается использовать UMAP, так как это потребовало бы установить ещё одну зависимость -- библиотеку `umap-learn`. Желающие могут проделать задания на tSNE с использованием UMAP; в этом случае обратите внимание на параметры `n_neighbors` и `min_dist`, которыми определяется вид проекции.\n",
        "\n",
        "**(0.5 балла)** Выполните tSNE-преобразование матрицы `X`, оставив 2 признака. Визуализируйте данные, преобразованные таким образом, в виде точечной диаграммы: первый признак вдоль горизонтальной оси, второй признак вдоль вертикальной оси. Подсветите разными цветами группы точек, соответствующих разным цифрам.\n",
        "\n",
        "*Указания:*\n",
        "- Точечную диаграмму умеет рисовать функция `plt.scatter`. Ознакомьтесь со справкой к ней.\n",
        "- За цвета точек отвечает параметр `c` у функции `plt.scatter`. Передать в него надо истинные метки классов."
      ]
    },
    {
      "cell_type": "code",
      "metadata": {
        "id": "D3g5z8H9jAt3"
      },
      "source": [
        "from sklearn.manifold import TSNE"
      ],
      "execution_count": 32,
      "outputs": []
    },
    {
      "cell_type": "code",
      "metadata": {
        "id": "w-eTrLWvjAt3"
      },
      "source": [
        "reducerTSNE = TSNE()\n",
        "X_reduced_TSNE = reducerTSNE.fit_transform(X)"
      ],
      "execution_count": 33,
      "outputs": []
    },
    {
      "cell_type": "code",
      "metadata": {
        "colab": {
          "base_uri": "https://localhost:8080/",
          "height": 0
        },
        "id": "tnIz-gpVjAt3",
        "outputId": "816c2be2-0dd8-4193-a619-2c7e1a381d38"
      },
      "source": [
        "plt.scatter(X_reduced_TSNE[:, 0], X_reduced_TSNE[:, 1], c=y, cmap='hsv')\n",
        "plt.title('True clustering of TSNE reduced data')"
      ],
      "execution_count": 34,
      "outputs": [
        {
          "output_type": "execute_result",
          "data": {
            "text/plain": [
              "Text(0.5, 1.0, 'True clustering of TSNE reduced data')"
            ]
          },
          "metadata": {
            "tags": []
          },
          "execution_count": 34
        },
        {
          "output_type": "display_data",
          "data": {
            "image/png": "[encoded data removed]",
            "text/plain": [
              "<Figure size 432x288 with 1 Axes>"
            ]
          },
          "metadata": {
            "tags": [],
            "needs_background": "light"
          }
        }
      ]
    },
    {
      "cell_type": "markdown",
      "metadata": {
        "id": "dKWHMxJnjAt4"
      },
      "source": [
        "**(1 балл)** Для tSNE-преобразованных данных с 2 признаками выполните иерархическую и $K$-means кластеризацию (число кластеров примите равным 10). Посчитайте значения силуэта и $V$-меры. Удалось ли получить силуэт и / или $V$-меру лучше, чем на исходных данных?"
      ]
    },
    {
      "cell_type": "code",
      "metadata": {
        "id": "7bTeT_UCjAt4"
      },
      "source": [
        "ac_labels_TSNE = get_clusters(X_reduced_TSNE, 10, 'ac')\n",
        "kmeans_labels_TSNE = get_clusters(X_reduced_TSNE, 10, 'kmeans')"
      ],
      "execution_count": 35,
      "outputs": []
    },
    {
      "cell_type": "code",
      "metadata": {
        "colab": {
          "base_uri": "https://localhost:8080/"
        },
        "id": "k5wrnFP1jAt4",
        "outputId": "2b095d42-2608-4b66-f86c-16152fe27993"
      },
      "source": [
        "print(f'Full data silhouette (AgglomerativeClustering, n_clusters = 10) {silhouette_ac[10 - CLUSTERS_RANGE[0]]}')\n",
        "silhouette_ac_TSNE = silhouette_score(X_reduced_TSNE, ac_labels_TSNE)\n",
        "print(f'TSNE reduced data silhouette AgglomerativeClustering = {silhouette_ac_TSNE}')\n",
        "\n",
        "print(f'Full data silhouette (KMeans, n_clusters = 10) {silhouette_kmeans[10 - CLUSTERS_RANGE[0]]}')\n",
        "silhouette_kmeans_TSNE = silhouette_score(X_reduced_TSNE, kmeans_labels_TSNE)\n",
        "print(f'TSNE reduced data silhouette KMeans = {silhouette_kmeans_TSNE}')\n",
        "\n",
        "print(f'Full data V-measure (AgglomerativeClustering, n_clusters = 10) {v_measure_ac[10 - CLUSTERS_RANGE[0]]}')\n",
        "v_measure_ac_TSNE = v_measure_score(y, ac_labels_TSNE)\n",
        "print(f'TSNE reduced data V-measure AgglomerativeClustering = {v_measure_ac_TSNE}')\n",
        "\n",
        "print(f'Full data V-measure (KMeans, n_clusters = 10) {v_measure_kmeans[10 - CLUSTERS_RANGE[0]]}') \n",
        "v_measure_kmeans_TSNE = v_measure_score(y, kmeans_labels_TSNE)\n",
        "print(f'TSNE reduced data V-measure KMeans = {v_measure_kmeans_TSNE}')"
      ],
      "execution_count": 36,
      "outputs": [
        {
          "output_type": "stream",
          "text": [
            "Full data silhouette (AgglomerativeClustering, n_clusters = 10) 0.17849659940596496\n",
            "TSNE reduced data silhouette AgglomerativeClustering = 0.6447538137435913\n",
            "Full data silhouette (KMeans, n_clusters = 10) 0.1825365733393292\n",
            "TSNE reduced data silhouette KMeans = 0.6437464952468872\n",
            "Full data V-measure (AgglomerativeClustering, n_clusters = 10) 0.8681701126909083\n",
            "TSNE reduced data V-measure AgglomerativeClustering = 0.9224541686291711\n",
            "Full data V-measure (KMeans, n_clusters = 10) 0.743749239793608\n",
            "TSNE reduced data V-measure KMeans = 0.9133856292153173\n"
          ],
          "name": "stdout"
        }
      ]
    },
    {
      "cell_type": "code",
      "metadata": {
        "colab": {
          "base_uri": "https://localhost:8080/",
          "height": 0
        },
        "id": "e6PW0ZmVjAt4",
        "outputId": "9f6eb551-0c1c-4ea4-e772-84864b88f516"
      },
      "source": [
        "plt.scatter(X_reduced_TSNE[:, 0], X_reduced_TSNE[:, 1], c=ac_labels_TSNE, cmap='hsv')\n",
        "plt.title('AgglomerativeClustering illustration on TSNE reduced data')"
      ],
      "execution_count": 37,
      "outputs": [
        {
          "output_type": "execute_result",
          "data": {
            "text/plain": [
              "Text(0.5, 1.0, 'AgglomerativeClustering illustration on TSNE reduced data')"
            ]
          },
          "metadata": {
            "tags": []
          },
          "execution_count": 37
        },
        {
          "output_type": "display_data",
          "data": {
            "image/png": "[encoded data removed]",
            "text/plain": [
              "<Figure size 432x288 with 1 Axes>"
            ]
          },
          "metadata": {
            "tags": [],
            "needs_background": "light"
          }
        }
      ]
    },
    {
      "cell_type": "code",
      "metadata": {
        "colab": {
          "base_uri": "https://localhost:8080/",
          "height": 0
        },
        "id": "ej3L15SPjAt4",
        "outputId": "953061a9-7824-492d-f036-02e92215afc0"
      },
      "source": [
        "plt.scatter(X_reduced_TSNE[:, 0], X_reduced_TSNE[:, 1], c=kmeans_labels_TSNE, cmap='hsv')\n",
        "plt.title('KMeans clustering illustration on TSNE reduced data')"
      ],
      "execution_count": 38,
      "outputs": [
        {
          "output_type": "execute_result",
          "data": {
            "text/plain": [
              "Text(0.5, 1.0, 'KMeans clustering illustration on TSNE reduced data')"
            ]
          },
          "metadata": {
            "tags": []
          },
          "execution_count": 38
        },
        {
          "output_type": "display_data",
          "data": {
            "image/png": "[encoded data removed]",
            "text/plain": [
              "<Figure size 432x288 with 1 Axes>"
            ]
          },
          "metadata": {
            "tags": [],
            "needs_background": "light"
          }
        }
      ]
    },
    {
      "cell_type": "markdown",
      "metadata": {
        "id": "5OFO2_2YjAt5"
      },
      "source": [
        "TSNE-преобразование не дало улучшения только для V-меры в случае иерахической кластеризации, хотя, результат близкий к исходным данным. Во всех остальных случаях наблюдается рост параметра."
      ]
    },
    {
      "cell_type": "markdown",
      "metadata": {
        "id": "SYlUAx65jAt5"
      },
      "source": [
        "**(0.5 балла)** Для самого лучшего разбиения, которое вам удалось получить (на ваше усмотрение, лучшего в терминах силуэта или $V$-меры), опять визуализируйте картинками центры кластеров. Удалось ли добиться, чтобы каждый кластер соответствовал какой-нибудь одной цифре?"
      ]
    },
    {
      "cell_type": "markdown",
      "metadata": {
        "id": "B-cWRV2IjAt5"
      },
      "source": [
        "За лучшее разбиение примем KMeans кластеризацию после TSNE-преобразования (наибольшее значение V-меры)"
      ]
    },
    {
      "cell_type": "code",
      "metadata": {
        "colab": {
          "base_uri": "https://localhost:8080/",
          "height": 0
        },
        "id": "nBKutgTajAt5",
        "outputId": "45c6955a-658c-405d-c0aa-e8a27c5da68a"
      },
      "source": [
        "visualise_centroids(data.images, kmeans_labels_TSNE, N_DIGITS)"
      ],
      "execution_count": 39,
      "outputs": [
        {
          "output_type": "display_data",
          "data": {
            "image/png": "[encoded data removed]",
            "text/plain": [
              "<Figure size 432x288 with 10 Axes>"
            ]
          },
          "metadata": {
            "tags": []
          }
        }
      ]
    },
    {
      "cell_type": "markdown",
      "metadata": {
        "id": "JujQbRMRjAt5"
      },
      "source": [
        "Итак, довольно отчётливо наблюдаем 10 цифр: 8, 4, 6, 0, 2, 7, 5, 3, 9, 1. По одной на кластер. \r\n",
        "P.S.: Из-за многократной инициализации случайными значениями кластеров, при проверке возможно отображение других центров"
      ]
    },
    {
      "cell_type": "markdown",
      "metadata": {
        "id": "dnp5d1a1jAt5"
      },
      "source": [
        "# 4. Итоги, бонус\n",
        "\n",
        "**(1 балл)** Напишите в свободной форме, какие выводы вы сделали из выполненной работы. Ответьте, как минимум, на следующие два вопроса:\n",
        "- Какой из двух методов даёт более осмысленные кластеры – иерархическая кластеризация или алгоритм $K$ средних? Зависит ли это от настроек каждого алгоритма? От критериев оценивания качества?\n",
        "- Удаётся ли улучшить качество кластеризации, снижая размерность признакового пространства?"
      ]
    },
    {
      "cell_type": "markdown",
      "metadata": {
        "id": "QYwLNrUPlT0Y"
      },
      "source": [
        "1. Если судить по критериям оценивания качества (силуэт и V-мера), то иерархическая кластеризация даёт несколько лучшие результаты, чем К-средних.\r\n",
        "Алгоритм К-средних, к тому же, требует многочисленных запусков с разными начальными вариантами значений центров кластеров.\r\n",
        "2. Снижение размерности пространства признаков методом TSNE позволило улучшить качество кластеризации в нашем случае, \r\n",
        "подозреваю, что в более общем случае возможны варианты."
      ]
    },
    {
      "cell_type": "markdown",
      "metadata": {
        "id": "ct4FlJs-jAt6"
      },
      "source": [
        "**(Бонусные 2 балла)** Скачайте датасет [MNIST Handwritten Digits](http://yann.lecun.com/exdb/mnist). Как сделать это с помощью scikit-learn, написано [здесь](http://scikit-learn.org/stable/datasets/index.html#downloading-datasets-from-the-mldata-org-repository). MNIST Handwritten Digits – это 70 тысяч распознанных рукописных изображений цифр, каждое размером 28 $\\times$ 28 пикселей. Попробуйте прокластеризовать этот датасет и добиться как можно лучших значений силуэта и $V$-меры."
      ]
    },
    {
      "cell_type": "code",
      "metadata": {
        "id": "IdrhRokEjAt6"
      },
      "source": [
        "from sklearn.datasets import fetch_openml\n",
        "data = fetch_openml('mnist_784', version=1)\n",
        "X = data.data\n",
        "y = data.target"
      ],
      "execution_count": 40,
      "outputs": []
    },
    {
      "cell_type": "code",
      "metadata": {
        "colab": {
          "base_uri": "https://localhost:8080/"
        },
        "id": "qcbaSyqonVZ0",
        "outputId": "baa1ce42-bb27-477b-b69c-2a92df33329a"
      },
      "source": [
        "print(X.shape)"
      ],
      "execution_count": 41,
      "outputs": [
        {
          "output_type": "stream",
          "text": [
            "(70000, 784)\n"
          ],
          "name": "stdout"
        }
      ]
    },
    {
      "cell_type": "code",
      "metadata": {
        "id": "UyuyQgI8jAt6"
      },
      "source": [
        "#X_reduced = reducerTSNE.fit_transform(X) - очень медленно, используем UMAP"
      ],
      "execution_count": 42,
      "outputs": []
    },
    {
      "cell_type": "code",
      "metadata": {
        "id": "JTkxwukKTcR-"
      },
      "source": [
        "from sklearn.cluster import MiniBatchKMeans"
      ],
      "execution_count": 43,
      "outputs": []
    },
    {
      "cell_type": "code",
      "metadata": {
        "id": "hCIvuplMTran"
      },
      "source": [
        "model = MiniBatchKMeans(n_clusters=10)\r\n",
        "mini_km_labels = model.fit_predict(X)"
      ],
      "execution_count": 44,
      "outputs": []
    },
    {
      "cell_type": "code",
      "metadata": {
        "colab": {
          "base_uri": "https://localhost:8080/"
        },
        "id": "ctFhEIFIU0vF",
        "outputId": "3efd8680-5872-48f4-a2ef-6b2b1f39c319"
      },
      "source": [
        "silhouette_mini_km = silhouette_score(X, mini_km_labels)\r\n",
        "print(silhouette_mini_km)"
      ],
      "execution_count": 45,
      "outputs": [
        {
          "output_type": "stream",
          "text": [
            "0.06429902116452704\n"
          ],
          "name": "stdout"
        }
      ]
    },
    {
      "cell_type": "code",
      "metadata": {
        "colab": {
          "base_uri": "https://localhost:8080/"
        },
        "id": "oY9GlCB_Was5",
        "outputId": "058097f8-aba8-47ce-b445-cab18f676399"
      },
      "source": [
        "v_measure_mini_km = v_measure_score(y, mini_km_labels)\r\n",
        "print(v_measure_mini_km)"
      ],
      "execution_count": 46,
      "outputs": [
        {
          "output_type": "stream",
          "text": [
            "0.4690785944754008\n"
          ],
          "name": "stdout"
        }
      ]
    },
    {
      "cell_type": "markdown",
      "metadata": {
        "id": "jYKH0Xfvqc1O"
      },
      "source": [
        "Значения не очень, добавим скейлинг"
      ]
    },
    {
      "cell_type": "code",
      "metadata": {
        "id": "cjWnHIfrXwo8"
      },
      "source": [
        "from sklearn.preprocessing import StandardScaler"
      ],
      "execution_count": 47,
      "outputs": []
    },
    {
      "cell_type": "code",
      "metadata": {
        "id": "49guXFBOXkMN"
      },
      "source": [
        "scaler = StandardScaler()\r\n",
        "X_scaled = scaler.fit_transform(X)"
      ],
      "execution_count": 48,
      "outputs": []
    },
    {
      "cell_type": "code",
      "metadata": {
        "id": "gId1HeKGX-Ff"
      },
      "source": [
        "mini_km_labels_scaled = model.fit_predict(X_scaled)"
      ],
      "execution_count": 49,
      "outputs": []
    },
    {
      "cell_type": "code",
      "metadata": {
        "colab": {
          "base_uri": "https://localhost:8080/"
        },
        "id": "q-2xFg5sYIih",
        "outputId": "c5a561b3-07cc-4606-a285-5e8f0f986897"
      },
      "source": [
        "silhouette_mini_km_scaled = silhouette_score(X_scaled, mini_km_labels_scaled)\r\n",
        "print(silhouette_mini_km_scaled)"
      ],
      "execution_count": 50,
      "outputs": [
        {
          "output_type": "stream",
          "text": [
            "0.0152408760811694\n"
          ],
          "name": "stdout"
        }
      ]
    },
    {
      "cell_type": "code",
      "metadata": {
        "colab": {
          "base_uri": "https://localhost:8080/"
        },
        "id": "qdhht5bgYQFW",
        "outputId": "82814d94-1bb8-4936-af31-b6afbdb9d6ee"
      },
      "source": [
        "v_measure_mini_km_scaled = v_measure_score(y, mini_km_labels_scaled)\r\n",
        "print(v_measure_mini_km_scaled)"
      ],
      "execution_count": 51,
      "outputs": [
        {
          "output_type": "stream",
          "text": [
            "0.33308607707747123\n"
          ],
          "name": "stdout"
        }
      ]
    },
    {
      "cell_type": "markdown",
      "metadata": {
        "id": "iW7hrlJuqh-Y"
      },
      "source": [
        "Скейлинг не помог, уменьшим количество признаков"
      ]
    },
    {
      "cell_type": "code",
      "metadata": {
        "id": "jQEiXHWRcBpy"
      },
      "source": [
        "from umap import UMAP"
      ],
      "execution_count": 52,
      "outputs": []
    },
    {
      "cell_type": "code",
      "metadata": {
        "id": "9onwrxf7cMfb"
      },
      "source": [
        "umap_reducer = UMAP()\r\n",
        "X_umap = umap_reducer.fit_transform(X)"
      ],
      "execution_count": 53,
      "outputs": []
    },
    {
      "cell_type": "code",
      "metadata": {
        "id": "HEvauithid7m"
      },
      "source": [
        "mini_km_labels_umap = model.fit_predict(X_umap)"
      ],
      "execution_count": 54,
      "outputs": []
    },
    {
      "cell_type": "code",
      "metadata": {
        "colab": {
          "base_uri": "https://localhost:8080/"
        },
        "id": "LEUNpd47krg8",
        "outputId": "3077a174-4582-46ee-c481-91dfea396751"
      },
      "source": [
        "silhouette_mini_km_umap = silhouette_score(X_umap, mini_km_labels_umap)\r\n",
        "print(silhouette_mini_km_umap)"
      ],
      "execution_count": 55,
      "outputs": [
        {
          "output_type": "stream",
          "text": [
            "0.6011784\n"
          ],
          "name": "stdout"
        }
      ]
    },
    {
      "cell_type": "code",
      "metadata": {
        "colab": {
          "base_uri": "https://localhost:8080/"
        },
        "id": "Dg31oK6dk09z",
        "outputId": "9c9fc4ff-7b7b-4f4b-e1f0-3a2e48e6d3e8"
      },
      "source": [
        "v_measure_mini_km_umap = v_measure_score(y, mini_km_labels_umap)\r\n",
        "print(v_measure_mini_km_umap)"
      ],
      "execution_count": 56,
      "outputs": [
        {
          "output_type": "stream",
          "text": [
            "0.8914266073398056\n"
          ],
          "name": "stdout"
        }
      ]
    },
    {
      "cell_type": "markdown",
      "metadata": {
        "id": "P9fjD_u7qS0P"
      },
      "source": [
        "UMAP сработал"
      ]
    }
  ]
}